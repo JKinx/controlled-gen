{
 "cells": [
  {
   "cell_type": "code",
   "execution_count": 1,
   "metadata": {
    "id": "tvSFo3eWETqs"
   },
   "outputs": [],
   "source": [
    "from num2words import num2words\n",
    "from random import sample"
   ]
  },
  {
   "cell_type": "code",
   "execution_count": 36,
   "metadata": {
    "id": "-EOAoBa9Ja2b"
   },
   "outputs": [],
   "source": [
    "def split_words(lst, day=True): \n",
    "    new_lst = []\n",
    "    for word in lst:\n",
    "        if day:\n",
    "            new_lst.append(\"_DStart_ \" + \" \".join([char for char in word]) + \" _DEnd_\")\n",
    "        else:\n",
    "            new_lst.append(\"_MStart_ \" + \" \".join([char for char in word]) + \" _MEnd_\")\n",
    "    return new_lst"
   ]
  },
  {
   "cell_type": "code",
   "execution_count": 37,
   "metadata": {
    "id": "j7wKRpYlFd3z"
   },
   "outputs": [],
   "source": [
    "month_ntow = split_words([\"January\", \"February\", \"March\", \"April\", \"May\", \"June\", \"July\", \"August\", \"September\", \"October\", \"November\", \"December\"], False)\n",
    "day_ntow = split_words([num2words(n) for n in range(1, 32)])\n",
    "day_ntoo = split_words([num2words(n, ordinal=True) for n in range(1, 32)])"
   ]
  },
  {
   "cell_type": "code",
   "execution_count": 57,
   "metadata": {},
   "outputs": [
    {
     "data": {
      "text/plain": [
       "'_MStart_ A p r i l _MEnd_'"
      ]
     },
     "execution_count": 57,
     "metadata": {},
     "output_type": "execute_result"
    }
   ],
   "source": [
    "month_ntow[3]"
   ]
  },
  {
   "cell_type": "code",
   "execution_count": 60,
   "metadata": {},
   "outputs": [],
   "source": [
    "from nltk import word_tokenize"
   ]
  },
  {
   "cell_type": "code",
   "execution_count": 72,
   "metadata": {},
   "outputs": [],
   "source": [
    "def month_wtoz(month):\n",
    "    length = len(month_ntow[month].split())\n",
    "    return \" \".join([str(2)] * length)\n",
    "\n",
    "def day_wtoz(day):\n",
    "    length = len(day_ntow[day].split())\n",
    "    return \" \".join([str(0)] * length)\n",
    "\n",
    "def day_otoz(day):\n",
    "    length = len(day_ntoo[day].split())\n",
    "    return \" \".join([str(1)] * length)"
   ]
  },
  {
   "cell_type": "code",
   "execution_count": 79,
   "metadata": {
    "id": "_FVdlGf9Htw6"
   },
   "outputs": [],
   "source": [
    "def date_to_sent(day, month, year, format, start_format):\n",
    "    day -= 1\n",
    "    month -= 1\n",
    "\n",
    "    starts = [(\"The date is \", \"-1 -1 -1 \"), (\"It is \", \"-1 -1 \"), (\"Today is \", \"-1 -1 \")][start_format]\n",
    "    \n",
    "    y = starts[0]\n",
    "    z = starts[1]\n",
    "    \n",
    "    if format == 0:\n",
    "        y += day_ntow[day] + \" \" + month_ntow[month] + \" \" + str(year)\n",
    "        z += day_wtoz(day) + \" \" + month_wtoz(month) + \" \" + \"3\"\n",
    "    elif format == 1:\n",
    "        y += month_ntow[month] + \" \" + day_ntow[day] + \" , \" + str(year)\n",
    "        z += month_wtoz(month) + \" \" + day_wtoz(day) + \" -1 \" + \"3\"\n",
    "    elif format == 2:\n",
    "        y += \"the \" + day_ntoo[day] + \" of \" + month_ntow[month] + \" , \" + str(year)\n",
    "        z += \"-1 \" + day_otoz(day) + \" -1 \" + month_wtoz(month) + \" -1 \" + \"3\"\n",
    "    elif format == 3:\n",
    "        y += month_ntow[month] + \" the \" + day_ntoo[day] + \" , \" + str(year)\n",
    "        z += month_wtoz(month) + \" -1 \" + day_otoz(day) + \" -1 \" + \"3\"\n",
    "    elif format == 4:\n",
    "        y += month_ntow[month] + \" \" + day_ntoo[day] + \" of the year \" + str(year)\n",
    "        z += month_wtoz(month) + \" \" + day_otoz(day) + \" -1 -1 -1 \" + \"3\"\n",
    "    elif format == 5:\n",
    "        y += \"the \" + day_ntoo[day] + \" of \" + month_ntow[month] + \" in the year \" + str(year)\n",
    "        z += \"-1 \" + day_otoz(day) + \" -1 \" + month_wtoz(month) + \" -1 -1 -1 \" + \"3\"\n",
    "        \n",
    "    y += \" .\"\n",
    "    z += \" -1\"\n",
    "    assert len(y.split(\" \")) == len(z.split(\" \"))\n",
    "\n",
    "    return y, z"
   ]
  },
  {
   "cell_type": "code",
   "execution_count": 80,
   "metadata": {
    "id": "mSxsF7N0KyKp"
   },
   "outputs": [],
   "source": [
    "days = list(range(1,32))\n",
    "months = list(range(1,13))\n",
    "years = list(range(2000,2021))\n",
    "formats = list(range(6))\n",
    "start_formats = list(range(3))"
   ]
  },
  {
   "cell_type": "code",
   "execution_count": 83,
   "metadata": {
    "id": "gIAaTVuLRQ74"
   },
   "outputs": [],
   "source": [
    "def get_data(sz):\n",
    "    data = []\n",
    "\n",
    "    for _ in range(sz):\n",
    "        day = sample(days, 1)[0]\n",
    "        month = sample(months, 1)[0]\n",
    "        year = sample(years, 1)[0]\n",
    "        format = sample(formats, 1)[0]\n",
    "        start_format = sample(start_formats, 1)[0]\n",
    "\n",
    "        y,z = date_to_sent(day, month, year, format, start_format)\n",
    "\n",
    "        data.append(((day, month, year), y, z, format, start_format))\n",
    "\n",
    "    return data"
   ]
  },
  {
   "cell_type": "code",
   "execution_count": 84,
   "metadata": {
    "id": "kcXi3Wu4SYOB"
   },
   "outputs": [],
   "source": [
    "train = get_data(2000)\n",
    "dev = get_data(1000)\n",
    "test = get_data(1000)"
   ]
  },
  {
   "cell_type": "code",
   "execution_count": 94,
   "metadata": {},
   "outputs": [],
   "source": [
    "import pickle\n",
    "pickle.dump((train, dev, test), open(\"data_raw.pkl\", \"wb\"))"
   ]
  },
  {
   "cell_type": "code",
   "execution_count": 86,
   "metadata": {
    "id": "NaFXv5HKS_A9"
   },
   "outputs": [],
   "source": [
    "def print_datapoint(data):\n",
    "    (day, month, year), y, z, _, _ = data\n",
    "    if day < 10:\n",
    "        day = \"0 \" + str(day)\n",
    "    else:\n",
    "        day = \" \".join([el for el in str(day)])\n",
    "    txt = \"\\\"day[\" + str(day) + \"], month[\" + str(month) + \"], year[\" + str(year) + \"]\\\",\" + \"\\\"\" + y + \"\\\"\"\n",
    "    return txt\n",
    "\n",
    "def print_datapointz(data):\n",
    "    (day, month, year), y, z, _, _ = data\n",
    "    if day < 10:\n",
    "        day = \"0 \" + str(day)\n",
    "    else:\n",
    "        day = \" \".join([el for el in str(day)])\n",
    "    txt = \"\\\"day[\" + str(day) + \"], month[\" + str(month) + \"], year[\" + str(year) + \"]\\\",\" + \"\\\"\" + y + \"\\\"\"\n",
    "    txt += \",\" + \"\\\"\" + z + \"\\\"\"\n",
    "    return txt\n",
    "\n",
    "def print_wo_ref(data):\n",
    "    (day, month, year), y, z, _, _ = data\n",
    "    if day < 10:\n",
    "        day = \"0 \" + str(day)\n",
    "    else:\n",
    "        day = \" \".join([el for el in str(day)])\n",
    "    txt = \"\\\"day[\" + str(day) + \"], month[\" + str(month) + \"], year[\" + str(year) + \"]\\\"\"\n",
    "    return txt"
   ]
  },
  {
   "cell_type": "code",
   "execution_count": 89,
   "metadata": {},
   "outputs": [
    {
     "name": "stdout",
     "output_type": "stream",
     "text": [
      "\"day[0 8], month[11], year[2000]\",\"It is the _DStart_ e i g h t h _DEnd_ of _MStart_ N o v e m b e r _MEnd_ in the year 2000 .\",\"-1 -1 -1 1 1 1 1 1 1 1 1 -1 2 2 2 2 2 2 2 2 2 2 -1 -1 -1 3 -1\"\n",
      "\"day[0 1], month[1], year[2001]\",\"The date is the _DStart_ f i r s t _DEnd_ of _MStart_ J a n u a r y _MEnd_ in the year 2001 .\",\"-1 -1 -1 -1 1 1 1 1 1 1 1 -1 2 2 2 2 2 2 2 2 2 -1 -1 -1 3 -1\"\n",
      "\"day[2 9], month[6], year[2000]\",\"It is the _DStart_ t w e n t y - n i n t h _DEnd_ of _MStart_ J u n e _MEnd_ , 2000 .\",\"-1 -1 -1 1 1 1 1 1 1 1 1 1 1 1 1 1 1 -1 2 2 2 2 2 2 -1 3 -1\"\n",
      "\"day[0 7], month[9], year[2009]\",\"It is the _DStart_ s e v e n t h _DEnd_ of _MStart_ S e p t e m b e r _MEnd_ , 2009 .\",\"-1 -1 -1 1 1 1 1 1 1 1 1 1 -1 2 2 2 2 2 2 2 2 2 2 2 -1 3 -1\"\n",
      "\"day[1 3], month[7], year[2001]\",\"Today is _MStart_ J u l y _MEnd_ _DStart_ t h i r t e e n _DEnd_ , 2001 .\",\"-1 -1 2 2 2 2 2 2 0 0 0 0 0 0 0 0 0 0 -1 3 -1\"\n",
      "\"day[0 2], month[9], year[2015]\",\"The date is _MStart_ S e p t e m b e r _MEnd_ _DStart_ s e c o n d _DEnd_ of the year 2015 .\",\"-1 -1 -1 2 2 2 2 2 2 2 2 2 2 2 1 1 1 1 1 1 1 1 -1 -1 -1 3 -1\"\n",
      "\"day[0 8], month[3], year[2010]\",\"Today is the _DStart_ e i g h t h _DEnd_ of _MStart_ M a r c h _MEnd_ , 2010 .\",\"-1 -1 -1 1 1 1 1 1 1 1 1 -1 2 2 2 2 2 2 2 -1 3 -1\"\n",
      "\"day[3 1], month[5], year[2008]\",\"Today is _MStart_ M a y _MEnd_ _DStart_ t h i r t y - f i r s t _DEnd_ of the year 2008 .\",\"-1 -1 2 2 2 2 2 1 1 1 1 1 1 1 1 1 1 1 1 1 1 -1 -1 -1 3 -1\"\n",
      "\"day[2 4], month[6], year[2005]\",\"Today is _MStart_ J u n e _MEnd_ the _DStart_ t w e n t y - f o u r t h _DEnd_ , 2005 .\",\"-1 -1 2 2 2 2 2 2 -1 1 1 1 1 1 1 1 1 1 1 1 1 1 1 1 -1 3 -1\"\n",
      "\"day[2 4], month[2], year[2003]\",\"Today is the _DStart_ t w e n t y - f o u r t h _DEnd_ of _MStart_ F e b r u a r y _MEnd_ in the year 2003 .\",\"-1 -1 -1 1 1 1 1 1 1 1 1 1 1 1 1 1 1 1 -1 2 2 2 2 2 2 2 2 2 2 -1 -1 -1 3 -1\"\n"
     ]
    }
   ],
   "source": [
    "i = 0\n",
    "for datapoint in train:\n",
    "    print(print_datapointz(datapoint))\n",
    "    i += 1\n",
    "    if i == 10:\n",
    "        break"
   ]
  },
  {
   "cell_type": "code",
   "execution_count": 95,
   "metadata": {
    "colab": {
     "base_uri": "https://localhost:8080/",
     "height": 17
    },
    "executionInfo": {
     "elapsed": 584,
     "status": "ok",
     "timestamp": 1604931237653,
     "user": {
      "displayName": "Jambay Kinley",
      "photoUrl": "https://lh3.googleusercontent.com/a-/AOh14Ghf3yYCoYxSRtb3yCJ-eKGYTkP9J6aPhx6xxTxzEA=s64",
      "userId": "00021679011239774222"
     },
     "user_tz": 300
    },
    "id": "nW74_7a8TsVj",
    "outputId": "38a63a5b-0bae-4221-d4cd-00b34cc95973"
   },
   "outputs": [],
   "source": [
    "with open(\"trainset.csv\", \"w\") as ofile:\n",
    "    print(\"mr,ref\", file=ofile)\n",
    "    for datapoint in train:\n",
    "        print(print_datapointz(datapoint), file=ofile)"
   ]
  },
  {
   "cell_type": "code",
   "execution_count": 96,
   "metadata": {
    "colab": {
     "base_uri": "https://localhost:8080/",
     "height": 17
    },
    "executionInfo": {
     "elapsed": 731,
     "status": "ok",
     "timestamp": 1604931333036,
     "user": {
      "displayName": "Jambay Kinley",
      "photoUrl": "https://lh3.googleusercontent.com/a-/AOh14Ghf3yYCoYxSRtb3yCJ-eKGYTkP9J6aPhx6xxTxzEA=s64",
      "userId": "00021679011239774222"
     },
     "user_tz": 300
    },
    "id": "hL4F2FwzVUdI",
    "outputId": "b81fca77-0ce1-4191-842d-770fc59d86d4"
   },
   "outputs": [],
   "source": [
    "with open(\"devset.csv\", \"w\") as ofile:\n",
    "    print(\"mr,ref\", file=ofile)\n",
    "    for datapoint in dev:\n",
    "        print(print_datapointz(datapoint), file=ofile)"
   ]
  },
  {
   "cell_type": "code",
   "execution_count": 97,
   "metadata": {
    "colab": {
     "base_uri": "https://localhost:8080/",
     "height": 17
    },
    "executionInfo": {
     "elapsed": 719,
     "status": "ok",
     "timestamp": 1604931548980,
     "user": {
      "displayName": "Jambay Kinley",
      "photoUrl": "https://lh3.googleusercontent.com/a-/AOh14Ghf3yYCoYxSRtb3yCJ-eKGYTkP9J6aPhx6xxTxzEA=s64",
      "userId": "00021679011239774222"
     },
     "user_tz": 300
    },
    "id": "VIQ7hCZ5VYSL",
    "outputId": "28159e80-e745-42e7-a1df-948b15f0ea97"
   },
   "outputs": [],
   "source": [
    "with open(\"testset.csv\", \"w\") as ofile:\n",
    "    print(\"MR\", file=ofile)\n",
    "    for datapoint in train:\n",
    "        print(print_wo_ref(datapoint), file=ofile)"
   ]
  },
  {
   "cell_type": "code",
   "execution_count": 98,
   "metadata": {
    "colab": {
     "base_uri": "https://localhost:8080/",
     "height": 17
    },
    "executionInfo": {
     "elapsed": 602,
     "status": "ok",
     "timestamp": 1604931544878,
     "user": {
      "displayName": "Jambay Kinley",
      "photoUrl": "https://lh3.googleusercontent.com/a-/AOh14Ghf3yYCoYxSRtb3yCJ-eKGYTkP9J6aPhx6xxTxzEA=s64",
      "userId": "00021679011239774222"
     },
     "user_tz": 300
    },
    "id": "RdY16V9EXbws",
    "outputId": "ca780945-40ca-4bf0-8af2-ef8cd484eabe"
   },
   "outputs": [],
   "source": [
    "with open(\"testset_w_refs.csv\", \"w\") as ofile:\n",
    "    print(\"mr,ref\", file=ofile)\n",
    "    for datapoint in train:\n",
    "        print(print_datapointz(datapoint), file=ofile)"
   ]
  },
  {
   "cell_type": "code",
   "execution_count": null,
   "metadata": {
    "id": "UhmxyB49X-Sm"
   },
   "outputs": [],
   "source": []
  }
 ],
 "metadata": {
  "colab": {
   "authorship_tag": "ABX9TyPgwd0YuPF8bvw92DgoVqqK",
   "collapsed_sections": [],
   "name": "data_generator.ipynb",
   "provenance": []
  },
  "kernelspec": {
   "display_name": "Python 3",
   "language": "python",
   "name": "python3"
  },
  "language_info": {
   "codemirror_mode": {
    "name": "ipython",
    "version": 3
   },
   "file_extension": ".py",
   "mimetype": "text/x-python",
   "name": "python",
   "nbconvert_exporter": "python",
   "pygments_lexer": "ipython3",
   "version": "3.6.8"
  }
 },
 "nbformat": 4,
 "nbformat_minor": 1
}
