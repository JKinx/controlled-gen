{
 "cells": [
  {
   "cell_type": "code",
   "execution_count": 1,
   "metadata": {
    "id": "tvSFo3eWETqs"
   },
   "outputs": [],
   "source": [
    "from num2words import num2words\n",
    "from random import sample"
   ]
  },
  {
   "cell_type": "code",
   "execution_count": 4,
   "metadata": {
    "id": "-EOAoBa9Ja2b"
   },
   "outputs": [],
   "source": [
    "def split_words(lst): \n",
    "    new_lst = []\n",
    "    for word in lst:\n",
    "        new_lst.append(\"_Start_ \" + \" \".join([char for char in word]) + \" _End_\")\n",
    "    return new_lst"
   ]
  },
  {
   "cell_type": "code",
   "execution_count": 5,
   "metadata": {
    "id": "j7wKRpYlFd3z"
   },
   "outputs": [],
   "source": [
    "month_ntow = split_words([\"January\", \"February\", \"March\", \"April\", \"May\", \"June\", \"July\", \"August\", \"September\", \"October\", \"November\", \"December\"])\n",
    "day_ntow = split_words([num2words(n) for n in range(1, 32)])\n",
    "day_ntoo = split_words([num2words(n, ordinal=True) for n in range(1, 32)])"
   ]
  },
  {
   "cell_type": "code",
   "execution_count": 6,
   "metadata": {
    "id": "_FVdlGf9Htw6"
   },
   "outputs": [],
   "source": [
    "def date_to_sent(day, month, year, format):\n",
    "    day -= 1\n",
    "    month -= 1\n",
    "\n",
    "    start = sample([\"The date is \", \"It is \", \"Today is \"], 1)[0]\n",
    "\n",
    "    if format == 0:\n",
    "        start += day_ntow[day] + \" \" + month_ntow[month] + \" \" + str(year)\n",
    "    elif format == 1:\n",
    "        start += month_ntow[month] + \" \" + day_ntow[day] + \", \" + str(year)\n",
    "    elif format == 2:\n",
    "        start += \"the \" + day_ntoo[day] + \" of \" + month_ntow[month] + \", \" + str(year)\n",
    "    elif format == 3:\n",
    "        start += month_ntow[month] + \" the \" + day_ntoo[day] + \", \" + str(year)\n",
    "    elif format == 4:\n",
    "        start += month_ntow[month] + \" \" + day_ntoo[day] + \" of the year \" + str(year)\n",
    "    elif format == 5:\n",
    "        start += \"the \" + day_ntoo[day] + \" of \" + month_ntow[month] + \" in the year \" + str(year)\n",
    "\n",
    "    return start + \".\""
   ]
  },
  {
   "cell_type": "code",
   "execution_count": 7,
   "metadata": {
    "id": "mSxsF7N0KyKp"
   },
   "outputs": [],
   "source": [
    "days = list(range(1,32))\n",
    "months = list(range(1,13))\n",
    "years = list(range(2000,2021))\n",
    "formats = list(range(6))"
   ]
  },
  {
   "cell_type": "code",
   "execution_count": 8,
   "metadata": {
    "id": "gIAaTVuLRQ74"
   },
   "outputs": [],
   "source": [
    "def get_data(sz):\n",
    "    data = []\n",
    "\n",
    "    for _ in range(sz):\n",
    "        day = sample(days, 1)[0]\n",
    "        month = sample(months, 1)[0]\n",
    "        year = sample(years, 1)[0]\n",
    "        format = sample(formats, 1)[0]\n",
    "\n",
    "        sent = date_to_sent(day, month, year, format)\n",
    "\n",
    "        data.append(((day, month, year), sent))\n",
    "\n",
    "    return data"
   ]
  },
  {
   "cell_type": "code",
   "execution_count": 9,
   "metadata": {
    "id": "kcXi3Wu4SYOB"
   },
   "outputs": [],
   "source": [
    "train = get_data(2000)\n",
    "dev = get_data(1000)\n",
    "test = get_data(1000)"
   ]
  },
  {
   "cell_type": "code",
   "execution_count": 10,
   "metadata": {
    "id": "NaFXv5HKS_A9"
   },
   "outputs": [],
   "source": [
    "def print_datapoint(data):\n",
    "    ((day, month, year), sent) = data\n",
    "    if day < 10:\n",
    "        day = \"0 \" + str(day)\n",
    "    else:\n",
    "        day = \" \".join([el for el in str(day)])\n",
    "    txt = \"\\\"day[\" + str(day) + \"], month[\" + str(month) + \"], year[\" + str(year) + \"]\\\",\" + \"\\\"\" + sent + \"\\\"\"\n",
    "    return txt\n",
    "\n",
    "def print_wo_ref(data):\n",
    "    ((day, month, year), sent) = data\n",
    "    if day < 10:\n",
    "        day = \"0 \" + str(day)\n",
    "    else:\n",
    "        day = \" \".join([el for el in str(day)])\n",
    "    txt = \"\\\"day[\" + str(day) + \"], month[\" + str(month) + \"], year[\" + str(year) + \"]\\\"\"\n",
    "    return txt"
   ]
  },
  {
   "cell_type": "code",
   "execution_count": 11,
   "metadata": {
    "colab": {
     "base_uri": "https://localhost:8080/",
     "height": 35
    },
    "executionInfo": {
     "elapsed": 540,
     "status": "ok",
     "timestamp": 1604931199092,
     "user": {
      "displayName": "Jambay Kinley",
      "photoUrl": "https://lh3.googleusercontent.com/a-/AOh14Ghf3yYCoYxSRtb3yCJ-eKGYTkP9J6aPhx6xxTxzEA=s64",
      "userId": "00021679011239774222"
     },
     "user_tz": 300
    },
    "id": "4-Fj4NhfTocD",
    "outputId": "fd6390e3-29b5-44bc-9478-c381213b76f7"
   },
   "outputs": [
    {
     "data": {
      "text/plain": [
       "'\"day[1 0], month[1], year[2008]\",\"It is _Start_ t e n _End_ _Start_ J a n u a r y _End_ 2008.\"'"
      ]
     },
     "execution_count": 11,
     "metadata": {},
     "output_type": "execute_result"
    }
   ],
   "source": [
    "print_datapoint(train[0])"
   ]
  },
  {
   "cell_type": "code",
   "execution_count": 12,
   "metadata": {
    "colab": {
     "base_uri": "https://localhost:8080/",
     "height": 17
    },
    "executionInfo": {
     "elapsed": 584,
     "status": "ok",
     "timestamp": 1604931237653,
     "user": {
      "displayName": "Jambay Kinley",
      "photoUrl": "https://lh3.googleusercontent.com/a-/AOh14Ghf3yYCoYxSRtb3yCJ-eKGYTkP9J6aPhx6xxTxzEA=s64",
      "userId": "00021679011239774222"
     },
     "user_tz": 300
    },
    "id": "nW74_7a8TsVj",
    "outputId": "38a63a5b-0bae-4221-d4cd-00b34cc95973"
   },
   "outputs": [],
   "source": [
    "with open(\"trainset.csv\", \"w\") as ofile:\n",
    "    print(\"mr,ref\", file=ofile)\n",
    "    for datapoint in train:\n",
    "        print(print_datapoint(datapoint), file=ofile)"
   ]
  },
  {
   "cell_type": "code",
   "execution_count": 13,
   "metadata": {
    "colab": {
     "base_uri": "https://localhost:8080/",
     "height": 17
    },
    "executionInfo": {
     "elapsed": 731,
     "status": "ok",
     "timestamp": 1604931333036,
     "user": {
      "displayName": "Jambay Kinley",
      "photoUrl": "https://lh3.googleusercontent.com/a-/AOh14Ghf3yYCoYxSRtb3yCJ-eKGYTkP9J6aPhx6xxTxzEA=s64",
      "userId": "00021679011239774222"
     },
     "user_tz": 300
    },
    "id": "hL4F2FwzVUdI",
    "outputId": "b81fca77-0ce1-4191-842d-770fc59d86d4"
   },
   "outputs": [],
   "source": [
    "with open(\"devset.csv\", \"w\") as ofile:\n",
    "    print(\"mr,ref\", file=ofile)\n",
    "    for datapoint in dev:\n",
    "        print(print_datapoint(datapoint), file=ofile)"
   ]
  },
  {
   "cell_type": "code",
   "execution_count": 14,
   "metadata": {
    "colab": {
     "base_uri": "https://localhost:8080/",
     "height": 17
    },
    "executionInfo": {
     "elapsed": 719,
     "status": "ok",
     "timestamp": 1604931548980,
     "user": {
      "displayName": "Jambay Kinley",
      "photoUrl": "https://lh3.googleusercontent.com/a-/AOh14Ghf3yYCoYxSRtb3yCJ-eKGYTkP9J6aPhx6xxTxzEA=s64",
      "userId": "00021679011239774222"
     },
     "user_tz": 300
    },
    "id": "VIQ7hCZ5VYSL",
    "outputId": "28159e80-e745-42e7-a1df-948b15f0ea97"
   },
   "outputs": [],
   "source": [
    "with open(\"testset.csv\", \"w\") as ofile:\n",
    "    print(\"MR\", file=ofile)\n",
    "    for datapoint in train:\n",
    "        print(print_wo_ref(datapoint), file=ofile)"
   ]
  },
  {
   "cell_type": "code",
   "execution_count": 15,
   "metadata": {
    "colab": {
     "base_uri": "https://localhost:8080/",
     "height": 17
    },
    "executionInfo": {
     "elapsed": 602,
     "status": "ok",
     "timestamp": 1604931544878,
     "user": {
      "displayName": "Jambay Kinley",
      "photoUrl": "https://lh3.googleusercontent.com/a-/AOh14Ghf3yYCoYxSRtb3yCJ-eKGYTkP9J6aPhx6xxTxzEA=s64",
      "userId": "00021679011239774222"
     },
     "user_tz": 300
    },
    "id": "RdY16V9EXbws",
    "outputId": "ca780945-40ca-4bf0-8af2-ef8cd484eabe"
   },
   "outputs": [],
   "source": [
    "with open(\"testset_w_refs.csv\", \"w\") as ofile:\n",
    "    print(\"mr,ref\", file=ofile)\n",
    "    for datapoint in train:\n",
    "        print(print_datapoint(datapoint), file=ofile)"
   ]
  },
  {
   "cell_type": "code",
   "execution_count": null,
   "metadata": {
    "id": "UhmxyB49X-Sm"
   },
   "outputs": [],
   "source": []
  }
 ],
 "metadata": {
  "colab": {
   "authorship_tag": "ABX9TyPgwd0YuPF8bvw92DgoVqqK",
   "collapsed_sections": [],
   "name": "data_generator.ipynb",
   "provenance": []
  },
  "kernelspec": {
   "display_name": "Python 3",
   "language": "python",
   "name": "python3"
  },
  "language_info": {
   "codemirror_mode": {
    "name": "ipython",
    "version": 3
   },
   "file_extension": ".py",
   "mimetype": "text/x-python",
   "name": "python",
   "nbconvert_exporter": "python",
   "pygments_lexer": "ipython3",
   "version": "3.6.8"
  }
 },
 "nbformat": 4,
 "nbformat_minor": 1
}
